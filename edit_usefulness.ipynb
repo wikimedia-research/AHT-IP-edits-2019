{
 "cells": [
  {
   "cell_type": "markdown",
   "metadata": {},
   "source": [
    "# Usefulness of IP edits\n",
    "\n",
    "This covers the second question of [T231605](https://phabricator.wikimedia.org/T231605), aiming to answer the question of how useful edits by unregistered contributors are.\n",
    "\n",
    "* How useful are IP edits on our projects?\n",
    "  * Some ways to gauge this - how many of IP edits are reverted (good/bad faith)? How many of these IPs are eventually blocked?\n",
    "  * What is the difference (if any) between IP behaviors on small vs large projects? Like, do IP editors cause more % of vandalism on smaller projects because they don't have as much capacity to deal with it?"
   ]
  },
  {
   "cell_type": "markdown",
   "metadata": {},
   "source": [
    "## Canonical list of projects\n",
    "\n",
    "I'm reusing Neil's code again for this."
   ]
  },
  {
   "cell_type": "code",
   "execution_count": 1,
   "metadata": {},
   "outputs": [
    {
     "name": "stderr",
     "output_type": "stream",
     "text": [
      "You can find the source for `wmfdata` at https://github.com/neilpquinn/wmfdata\n"
     ]
    }
   ],
   "source": [
    "import json\n",
    "import re\n",
    "\n",
    "import pandas as pd\n",
    "import numpy as np\n",
    "import requests\n",
    "from wmfdata import mariadb, hive\n",
    "\n",
    "import tabulate"
   ]
  },
  {
   "cell_type": "code",
   "execution_count": 16,
   "metadata": {},
   "outputs": [],
   "source": [
    "## Load the RPython library so we can use R for graphs\n",
    "\n",
    "%load_ext rpy2.ipython"
   ]
  },
  {
   "cell_type": "code",
   "execution_count": 17,
   "metadata": {},
   "outputs": [],
   "source": [
    "%%R\n",
    "library(ggplot2)\n",
    "library(data.table)\n"
   ]
  },
  {
   "cell_type": "code",
   "execution_count": 2,
   "metadata": {},
   "outputs": [],
   "source": [
    "def get_dblist(list_name):\n",
    "    list_url = (\"https://noc.wikimedia.org/conf/dblists/\" + list_name + \".dblist\")\n",
    "    list_content = requests.get(list_url).text.split(\"\\n\")\n",
    "    return pd.Series(list_content)"
   ]
  },
  {
   "cell_type": "code",
   "execution_count": 3,
   "metadata": {},
   "outputs": [
    {
     "data": {
      "text/html": [
       "<div>\n",
       "<style scoped>\n",
       "    .dataframe tbody tr th:only-of-type {\n",
       "        vertical-align: middle;\n",
       "    }\n",
       "\n",
       "    .dataframe tbody tr th {\n",
       "        vertical-align: top;\n",
       "    }\n",
       "\n",
       "    .dataframe thead th {\n",
       "        text-align: right;\n",
       "    }\n",
       "</style>\n",
       "<table border=\"1\" class=\"dataframe\">\n",
       "  <thead>\n",
       "    <tr style=\"text-align: right;\">\n",
       "      <th></th>\n",
       "      <th>domain_name</th>\n",
       "      <th>database_group</th>\n",
       "      <th>language_code</th>\n",
       "    </tr>\n",
       "    <tr>\n",
       "      <th>database_code</th>\n",
       "      <th></th>\n",
       "      <th></th>\n",
       "      <th></th>\n",
       "    </tr>\n",
       "  </thead>\n",
       "  <tbody>\n",
       "    <tr>\n",
       "      <td>aawiki</td>\n",
       "      <td>aa.wikipedia.org</td>\n",
       "      <td>wikipedia</td>\n",
       "      <td>aa</td>\n",
       "    </tr>\n",
       "    <tr>\n",
       "      <td>aawikibooks</td>\n",
       "      <td>aa.wikibooks.org</td>\n",
       "      <td>wikibooks</td>\n",
       "      <td>aa</td>\n",
       "    </tr>\n",
       "    <tr>\n",
       "      <td>aawiktionary</td>\n",
       "      <td>aa.wiktionary.org</td>\n",
       "      <td>wiktionary</td>\n",
       "      <td>aa</td>\n",
       "    </tr>\n",
       "    <tr>\n",
       "      <td>abwiki</td>\n",
       "      <td>ab.wikipedia.org</td>\n",
       "      <td>wikipedia</td>\n",
       "      <td>ab</td>\n",
       "    </tr>\n",
       "    <tr>\n",
       "      <td>abwiktionary</td>\n",
       "      <td>ab.wiktionary.org</td>\n",
       "      <td>wiktionary</td>\n",
       "      <td>ab</td>\n",
       "    </tr>\n",
       "    <tr>\n",
       "      <td>acewiki</td>\n",
       "      <td>ace.wikipedia.org</td>\n",
       "      <td>wikipedia</td>\n",
       "      <td>ace</td>\n",
       "    </tr>\n",
       "    <tr>\n",
       "      <td>advisorswiki</td>\n",
       "      <td>advisors.wikimedia.org</td>\n",
       "      <td>advisors</td>\n",
       "      <td>en</td>\n",
       "    </tr>\n",
       "    <tr>\n",
       "      <td>advisorywiki</td>\n",
       "      <td>advisory.wikimedia.org</td>\n",
       "      <td>advisory</td>\n",
       "      <td>en</td>\n",
       "    </tr>\n",
       "    <tr>\n",
       "      <td>adywiki</td>\n",
       "      <td>ady.wikipedia.org</td>\n",
       "      <td>wikipedia</td>\n",
       "      <td>ady</td>\n",
       "    </tr>\n",
       "    <tr>\n",
       "      <td>afwiki</td>\n",
       "      <td>af.wikipedia.org</td>\n",
       "      <td>wikipedia</td>\n",
       "      <td>af</td>\n",
       "    </tr>\n",
       "  </tbody>\n",
       "</table>\n",
       "</div>"
      ],
      "text/plain": [
       "                          domain_name database_group language_code\n",
       "database_code                                                     \n",
       "aawiki               aa.wikipedia.org      wikipedia            aa\n",
       "aawikibooks          aa.wikibooks.org      wikibooks            aa\n",
       "aawiktionary        aa.wiktionary.org     wiktionary            aa\n",
       "abwiki               ab.wikipedia.org      wikipedia            ab\n",
       "abwiktionary        ab.wiktionary.org     wiktionary            ab\n",
       "acewiki             ace.wikipedia.org      wikipedia           ace\n",
       "advisorswiki   advisors.wikimedia.org       advisors            en\n",
       "advisorywiki   advisory.wikimedia.org       advisory            en\n",
       "adywiki             ady.wikipedia.org      wikipedia           ady\n",
       "afwiki               af.wikipedia.org      wikipedia            af"
      ]
     },
     "execution_count": 3,
     "metadata": {},
     "output_type": "execute_result"
    }
   ],
   "source": [
    "wikis = mariadb.run(\"\"\"\n",
    "select\n",
    "    site_global_key as database_code,\n",
    "    concat(trim(leading \".\" from reverse(site_domain))) as domain_name,\n",
    "    site_group as database_group,\n",
    "    site_language as language_code\n",
    "from enwiki.sites\n",
    "\"\"\", \"enwiki\").sort_values(\"database_code\").set_index(\"database_code\")\n",
    "\n",
    "wikis.head(10)"
   ]
  },
  {
   "cell_type": "code",
   "execution_count": 4,
   "metadata": {},
   "outputs": [
    {
     "data": {
      "text/html": [
       "<div>\n",
       "<style scoped>\n",
       "    .dataframe tbody tr th:only-of-type {\n",
       "        vertical-align: middle;\n",
       "    }\n",
       "\n",
       "    .dataframe tbody tr th {\n",
       "        vertical-align: top;\n",
       "    }\n",
       "\n",
       "    .dataframe thead th {\n",
       "        text-align: right;\n",
       "    }\n",
       "</style>\n",
       "<table border=\"1\" class=\"dataframe\">\n",
       "  <thead>\n",
       "    <tr style=\"text-align: right;\">\n",
       "      <th></th>\n",
       "      <th>domain_name</th>\n",
       "      <th>database_group</th>\n",
       "      <th>language_code</th>\n",
       "      <th>language_name</th>\n",
       "    </tr>\n",
       "    <tr>\n",
       "      <th>database_code</th>\n",
       "      <th></th>\n",
       "      <th></th>\n",
       "      <th></th>\n",
       "      <th></th>\n",
       "    </tr>\n",
       "  </thead>\n",
       "  <tbody>\n",
       "    <tr>\n",
       "      <td>aawiki</td>\n",
       "      <td>aa.wikipedia.org</td>\n",
       "      <td>wikipedia</td>\n",
       "      <td>aa</td>\n",
       "      <td>Afar</td>\n",
       "    </tr>\n",
       "    <tr>\n",
       "      <td>aawikibooks</td>\n",
       "      <td>aa.wikibooks.org</td>\n",
       "      <td>wikibooks</td>\n",
       "      <td>aa</td>\n",
       "      <td>Afar</td>\n",
       "    </tr>\n",
       "    <tr>\n",
       "      <td>aawiktionary</td>\n",
       "      <td>aa.wiktionary.org</td>\n",
       "      <td>wiktionary</td>\n",
       "      <td>aa</td>\n",
       "      <td>Afar</td>\n",
       "    </tr>\n",
       "    <tr>\n",
       "      <td>abwiki</td>\n",
       "      <td>ab.wikipedia.org</td>\n",
       "      <td>wikipedia</td>\n",
       "      <td>ab</td>\n",
       "      <td>Abkhazian</td>\n",
       "    </tr>\n",
       "    <tr>\n",
       "      <td>abwiktionary</td>\n",
       "      <td>ab.wiktionary.org</td>\n",
       "      <td>wiktionary</td>\n",
       "      <td>ab</td>\n",
       "      <td>Abkhazian</td>\n",
       "    </tr>\n",
       "    <tr>\n",
       "      <td>acewiki</td>\n",
       "      <td>ace.wikipedia.org</td>\n",
       "      <td>wikipedia</td>\n",
       "      <td>ace</td>\n",
       "      <td>Achinese</td>\n",
       "    </tr>\n",
       "    <tr>\n",
       "      <td>advisorswiki</td>\n",
       "      <td>advisors.wikimedia.org</td>\n",
       "      <td>advisors</td>\n",
       "      <td>en</td>\n",
       "      <td>English</td>\n",
       "    </tr>\n",
       "    <tr>\n",
       "      <td>advisorywiki</td>\n",
       "      <td>advisory.wikimedia.org</td>\n",
       "      <td>advisory</td>\n",
       "      <td>en</td>\n",
       "      <td>English</td>\n",
       "    </tr>\n",
       "    <tr>\n",
       "      <td>adywiki</td>\n",
       "      <td>ady.wikipedia.org</td>\n",
       "      <td>wikipedia</td>\n",
       "      <td>ady</td>\n",
       "      <td>Adyghe</td>\n",
       "    </tr>\n",
       "    <tr>\n",
       "      <td>afwiki</td>\n",
       "      <td>af.wikipedia.org</td>\n",
       "      <td>wikipedia</td>\n",
       "      <td>af</td>\n",
       "      <td>Afrikaans</td>\n",
       "    </tr>\n",
       "  </tbody>\n",
       "</table>\n",
       "</div>"
      ],
      "text/plain": [
       "                          domain_name database_group language_code  \\\n",
       "database_code                                                        \n",
       "aawiki               aa.wikipedia.org      wikipedia            aa   \n",
       "aawikibooks          aa.wikibooks.org      wikibooks            aa   \n",
       "aawiktionary        aa.wiktionary.org     wiktionary            aa   \n",
       "abwiki               ab.wikipedia.org      wikipedia            ab   \n",
       "abwiktionary        ab.wiktionary.org     wiktionary            ab   \n",
       "acewiki             ace.wikipedia.org      wikipedia           ace   \n",
       "advisorswiki   advisors.wikimedia.org       advisors            en   \n",
       "advisorywiki   advisory.wikimedia.org       advisory            en   \n",
       "adywiki             ady.wikipedia.org      wikipedia           ady   \n",
       "afwiki               af.wikipedia.org      wikipedia            af   \n",
       "\n",
       "              language_name  \n",
       "database_code                \n",
       "aawiki                 Afar  \n",
       "aawikibooks            Afar  \n",
       "aawiktionary           Afar  \n",
       "abwiki            Abkhazian  \n",
       "abwiktionary      Abkhazian  \n",
       "acewiki            Achinese  \n",
       "advisorswiki        English  \n",
       "advisorywiki        English  \n",
       "adywiki              Adyghe  \n",
       "afwiki            Afrikaans  "
      ]
     },
     "execution_count": 4,
     "metadata": {},
     "output_type": "execute_result"
    }
   ],
   "source": [
    "lang_urls = [\n",
    "    \"https://raw.githubusercontent.com/wikimedia/mediawiki-extensions-cldr/master/CldrNames/CldrNamesEn.php\",\n",
    "    \"https://raw.githubusercontent.com/wikimedia/mediawiki-extensions-cldr/master/LocalNames/LocalNamesEn.php\"\n",
    "]\n",
    "\n",
    "def get_lang_names(url):\n",
    "    r = requests.get(url)\n",
    "    m = re.search(r\"languageNames = (\\[[\\s\\S]+?\\])\", r.text)\n",
    "    php_ln = m.group(1)\n",
    "    \n",
    "    json_ln = php_ln\n",
    "    repl = [\n",
    "        # Convert from PHP array format to JSON\n",
    "        (\" =>\", \":\"),\n",
    "        (\"\\[\", \"{\"),\n",
    "        (\"\\]\", \"}\"),\n",
    "        # Trailing commas will cause problems\n",
    "        (\",\\n}\", \"\\n}\"),\n",
    "        # ...so will single quotes\n",
    "        (\"'\", '\"'),\n",
    "        # ...and comments\n",
    "        (r\"/\\*[\\s\\S]*?\\*/\", \"\"),\n",
    "        (r\"#(.*?)\\n\", \"\"),\n",
    "        # One hack to deal with a single quote in a language name\n",
    "        ('O\"odham', \"O'odham\")\n",
    "    ]\n",
    "    for old, new in repl:\n",
    "        json_ln = re.sub(old, new, json_ln)\n",
    "    \n",
    "    py_ln = json.loads(json_ln)\n",
    "    return py_ln\n",
    "\n",
    "langs = {}\n",
    "for url in lang_urls:\n",
    "    langs.update(get_lang_names(url))\n",
    "\n",
    "# Add languages not included in the CLDR files\n",
    "langs.update({\n",
    "    \"als\": \"Alsatian\",\n",
    "    \"atj\": \"Atikamekw\",\n",
    "    \"diq\": \"Zazaki\",\n",
    "    \"fiu-vro\": \"Võro\",\n",
    "    \"map-bms\": \"Banyumasan\",\n",
    "    \"nah\": \"Nahuatl\",\n",
    "    \"pih\": \"Norfuk-Pitkern\",\n",
    "    \"rmy\": \"Vlax Romani\",\n",
    "    \"simple\": \"Simple English\"\n",
    "})\n",
    "\n",
    "wikis[\"language_name\"] = wikis[\"language_code\"].apply(langs.get)\n",
    "\n",
    "wikis.head(10)"
   ]
  },
  {
   "cell_type": "code",
   "execution_count": 5,
   "metadata": {},
   "outputs": [
    {
     "data": {
      "text/html": [
       "<div>\n",
       "<style scoped>\n",
       "    .dataframe tbody tr th:only-of-type {\n",
       "        vertical-align: middle;\n",
       "    }\n",
       "\n",
       "    .dataframe tbody tr th {\n",
       "        vertical-align: top;\n",
       "    }\n",
       "\n",
       "    .dataframe thead th {\n",
       "        text-align: right;\n",
       "    }\n",
       "</style>\n",
       "<table border=\"1\" class=\"dataframe\">\n",
       "  <thead>\n",
       "    <tr style=\"text-align: right;\">\n",
       "      <th></th>\n",
       "      <th>domain_name</th>\n",
       "      <th>database_group</th>\n",
       "      <th>language_code</th>\n",
       "      <th>language_name</th>\n",
       "      <th>status</th>\n",
       "      <th>visbility</th>\n",
       "    </tr>\n",
       "    <tr>\n",
       "      <th>database_code</th>\n",
       "      <th></th>\n",
       "      <th></th>\n",
       "      <th></th>\n",
       "      <th></th>\n",
       "      <th></th>\n",
       "      <th></th>\n",
       "    </tr>\n",
       "  </thead>\n",
       "  <tbody>\n",
       "    <tr>\n",
       "      <td>aawiki</td>\n",
       "      <td>aa.wikipedia.org</td>\n",
       "      <td>wikipedia</td>\n",
       "      <td>aa</td>\n",
       "      <td>Afar</td>\n",
       "      <td>closed</td>\n",
       "      <td>public</td>\n",
       "    </tr>\n",
       "    <tr>\n",
       "      <td>aawikibooks</td>\n",
       "      <td>aa.wikibooks.org</td>\n",
       "      <td>wikibooks</td>\n",
       "      <td>aa</td>\n",
       "      <td>Afar</td>\n",
       "      <td>closed</td>\n",
       "      <td>public</td>\n",
       "    </tr>\n",
       "    <tr>\n",
       "      <td>aawiktionary</td>\n",
       "      <td>aa.wiktionary.org</td>\n",
       "      <td>wiktionary</td>\n",
       "      <td>aa</td>\n",
       "      <td>Afar</td>\n",
       "      <td>closed</td>\n",
       "      <td>public</td>\n",
       "    </tr>\n",
       "    <tr>\n",
       "      <td>abwiki</td>\n",
       "      <td>ab.wikipedia.org</td>\n",
       "      <td>wikipedia</td>\n",
       "      <td>ab</td>\n",
       "      <td>Abkhazian</td>\n",
       "      <td>open</td>\n",
       "      <td>public</td>\n",
       "    </tr>\n",
       "    <tr>\n",
       "      <td>abwiktionary</td>\n",
       "      <td>ab.wiktionary.org</td>\n",
       "      <td>wiktionary</td>\n",
       "      <td>ab</td>\n",
       "      <td>Abkhazian</td>\n",
       "      <td>closed</td>\n",
       "      <td>public</td>\n",
       "    </tr>\n",
       "    <tr>\n",
       "      <td>acewiki</td>\n",
       "      <td>ace.wikipedia.org</td>\n",
       "      <td>wikipedia</td>\n",
       "      <td>ace</td>\n",
       "      <td>Achinese</td>\n",
       "      <td>open</td>\n",
       "      <td>public</td>\n",
       "    </tr>\n",
       "    <tr>\n",
       "      <td>advisorswiki</td>\n",
       "      <td>advisors.wikimedia.org</td>\n",
       "      <td>advisors</td>\n",
       "      <td>en</td>\n",
       "      <td>English</td>\n",
       "      <td>open</td>\n",
       "      <td>private</td>\n",
       "    </tr>\n",
       "    <tr>\n",
       "      <td>advisorywiki</td>\n",
       "      <td>advisory.wikimedia.org</td>\n",
       "      <td>advisory</td>\n",
       "      <td>en</td>\n",
       "      <td>English</td>\n",
       "      <td>closed</td>\n",
       "      <td>public</td>\n",
       "    </tr>\n",
       "    <tr>\n",
       "      <td>adywiki</td>\n",
       "      <td>ady.wikipedia.org</td>\n",
       "      <td>wikipedia</td>\n",
       "      <td>ady</td>\n",
       "      <td>Adyghe</td>\n",
       "      <td>open</td>\n",
       "      <td>public</td>\n",
       "    </tr>\n",
       "    <tr>\n",
       "      <td>afwiki</td>\n",
       "      <td>af.wikipedia.org</td>\n",
       "      <td>wikipedia</td>\n",
       "      <td>af</td>\n",
       "      <td>Afrikaans</td>\n",
       "      <td>open</td>\n",
       "      <td>public</td>\n",
       "    </tr>\n",
       "  </tbody>\n",
       "</table>\n",
       "</div>"
      ],
      "text/plain": [
       "                          domain_name database_group language_code  \\\n",
       "database_code                                                        \n",
       "aawiki               aa.wikipedia.org      wikipedia            aa   \n",
       "aawikibooks          aa.wikibooks.org      wikibooks            aa   \n",
       "aawiktionary        aa.wiktionary.org     wiktionary            aa   \n",
       "abwiki               ab.wikipedia.org      wikipedia            ab   \n",
       "abwiktionary        ab.wiktionary.org     wiktionary            ab   \n",
       "acewiki             ace.wikipedia.org      wikipedia           ace   \n",
       "advisorswiki   advisors.wikimedia.org       advisors            en   \n",
       "advisorywiki   advisory.wikimedia.org       advisory            en   \n",
       "adywiki             ady.wikipedia.org      wikipedia           ady   \n",
       "afwiki               af.wikipedia.org      wikipedia            af   \n",
       "\n",
       "              language_name  status visbility  \n",
       "database_code                                  \n",
       "aawiki                 Afar  closed    public  \n",
       "aawikibooks            Afar  closed    public  \n",
       "aawiktionary           Afar  closed    public  \n",
       "abwiki            Abkhazian    open    public  \n",
       "abwiktionary      Abkhazian  closed    public  \n",
       "acewiki            Achinese    open    public  \n",
       "advisorswiki        English    open   private  \n",
       "advisorywiki        English  closed    public  \n",
       "adywiki              Adyghe    open    public  \n",
       "afwiki            Afrikaans    open    public  "
      ]
     },
     "execution_count": 5,
     "metadata": {},
     "output_type": "execute_result"
    }
   ],
   "source": [
    "closed = get_dblist(\"closed\")\n",
    "private = get_dblist(\"private\")\n",
    "\n",
    "def apply_to_index(df, true_list, true_label, false_label):\n",
    "    idx_ser = df.index.to_series()\n",
    "    return idx_ser.isin(true_list).apply(lambda x: true_label if x else false_label)\n",
    "\n",
    "wikis = (\n",
    "    wikis\n",
    "    .assign(\n",
    "        status=lambda df: apply_to_index(df, closed, \"closed\", \"open\"),\n",
    "        visbility=lambda df: apply_to_index(df, private, \"private\", \"public\")\n",
    "    )\n",
    ")\n",
    "\n",
    "wikis.head(10)"
   ]
  },
  {
   "cell_type": "markdown",
   "metadata": {},
   "source": [
    "What are the projects we're interested in? I propose the following, although I can see the Outreach wiki also being one of them."
   ]
  },
  {
   "cell_type": "code",
   "execution_count": 146,
   "metadata": {},
   "outputs": [],
   "source": [
    "projects = ['commons', 'mediawiki', 'meta', 'wikibooks', 'wikidata', 'wikinews', 'wikipedia',\n",
    "            'wikiquote', 'wikisource', 'wikiversity', 'wikivoyage', 'wiktionary']"
   ]
  },
  {
   "cell_type": "markdown",
   "metadata": {},
   "source": [
    "## Determining time to block\n",
    "\n",
    "Let's grab data from three wikis, one larger, one medium sized, and one smaller. Then, we'll calculate time between an edit and the subsequent block, and make a plot of the distributions.\n",
    "\n",
    "I'll use the [List of Wikipedias](https://meta.wikimedia.org/wiki/List_of_Wikipedias) to select these, partly because I'm more familiar with the Wikipedia family of projects. For a larger wiki, I'll look at the ones with more than 1 million articles. Here, I think the Japanese Wikipedia is a good candidate, because our analysis of overall IP proportion found it to be large (27.2%). Spanish Wikipedia is also a good candidate as well, by the way. Both have hundreds of thousands of edits per month.\n",
    "\n",
    "For a medium sized wiki, I choose the Greek Wikipedia. It's got 168,000 articles, a good number of edits on a monthly average (tens of thousands), and about 20% of them are IP edits.\n",
    "\n",
    "For a smaller wiki, I choose two, the Somali and Swahili Wikipedias. The Somali Wikipedia has few articles (6,126) a fair number of monthly edits (1,250), and a high IP proportion (40.6). Swahili Wikipedia has a higher number of articles (53,838), higher number of monthly edits (almost 3,500), but a much lower IP proportion (3.3%)."
   ]
  },
  {
   "cell_type": "code",
   "execution_count": 48,
   "metadata": {},
   "outputs": [],
   "source": [
    "## Query to get data on IP edits to our candidate wikis from Sept 2018 through August 2019,\n",
    "## where the IP was subsequently blocked within 7 days after editing, and with time to\n",
    "## block calculated.\n",
    "\n",
    "## NOTE: I'll use August to August as the time basis here, because otherwise the 7-day\n",
    "## limitation doesn't work (we don't have data into September 2019).\n",
    "\n",
    "## NOTE: this query has been updated to include mainly larger wikis due to data shortage.\n",
    "\n",
    "time_to_block_query = '''\n",
    "WITH edits AS (\n",
    "    SELECT wiki_db, event_timestamp, event_user_text\n",
    "    FROM wmf.mediawiki_history\n",
    "    WHERE snapshot = \"2019-08\"\n",
    "    AND wiki_db IN (\"jawiki\", \"elwiki\", \"enwiki\", \"frwiki\", \"dewiki\", \n",
    "                    \"nlwiki\", \"ptwiki\", \"itwiki\", \"eswiki\", \"zhwiki\")\n",
    "    AND event_timestamp > \"2018-08-01\"\n",
    "    AND event_timestamp < \"2019-08-01\"\n",
    "    AND event_entity = \"revision\"\n",
    "    AND event_type = \"create\"\n",
    "    AND array_contains(revision_deleted_parts, 'user') = false -- skip revisions w/deleted user info\n",
    "    AND event_user_is_anonymous = true\n",
    "    AND revision_is_identity_reverted = true\n",
    "    AND revision_seconds_to_identity_revert < 60*60*48\n",
    "),\n",
    "blocks AS (\n",
    "    SELECT wiki_db, ipb_timestamp, ipb_address\n",
    "    FROM wmf_raw.mediawiki_ipblocks\n",
    "    WHERE snapshot = \"2019-08\"\n",
    "    AND wiki_db IN (\"jawiki\", \"elwiki\", \"enwiki\", \"frwiki\", \"dewiki\", \n",
    "                    \"nlwiki\", \"ptwiki\", \"itwiki\", \"eswiki\", \"zhwiki\")\n",
    "    AND ipb_timestamp > \"20180801\"\n",
    "    AND ipb_timestamp < \"20190808\" -- 7 days after last edit\n",
    "    AND ipb_user = 0 -- only IP blocks\n",
    "    AND ipb_auto = 0 -- no auto-blocks (IP blocked because a blocked user used it)\n",
    ")\n",
    "SELECT edits.wiki_db, event_user_text,\n",
    "unix_timestamp(blocks.ipb_timestamp, \"YYYYMMddhhmmss\") -\n",
    "unix_timestamp(edits.event_timestamp, \"yyyy-MM-dd hh:mm:ss.0\") AS time_to_block\n",
    "FROM edits\n",
    "JOIN blocks\n",
    "ON (edits.wiki_db = blocks.wiki_db\n",
    "    AND edits.event_user_text = blocks.ipb_address)\n",
    "WHERE \n",
    "unix_timestamp(blocks.ipb_timestamp, \"YYYYMMddhhmmss\") -\n",
    "unix_timestamp(edits.event_timestamp, \"yyyy-MM-dd hh:mm:ss.0\") BETWEEN 1 AND 60*60*24*7\n",
    "'''"
   ]
  },
  {
   "cell_type": "markdown",
   "metadata": {},
   "source": [
    "I'm not getting the amount of data that I expected, so I need to check my assumptions.\n",
    "\n",
    "First assumption: how many IP reverts are there within 48 hours in my dataset? There should be lots."
   ]
  },
  {
   "cell_type": "code",
   "execution_count": 34,
   "metadata": {},
   "outputs": [],
   "source": [
    "num_revert_query = '''\n",
    "SELECT wiki_db, count(*) AS num_reverted_ip_edits\n",
    "    FROM wmf.mediawiki_history\n",
    "    WHERE snapshot = \"2019-08\"\n",
    "    AND wiki_db IN (\"jawiki\", \"elwiki\", \"sowiki\", \"swwiki\")\n",
    "    AND event_timestamp > \"2014-08-01\"\n",
    "    AND event_timestamp < \"2019-08-01\"\n",
    "    AND event_entity = \"revision\"\n",
    "    AND event_type = \"create\"\n",
    "    AND array_contains(revision_deleted_parts, 'user') = false -- skip revisions w/deleted user info\n",
    "    AND event_user_is_anonymous = true\n",
    "    AND revision_is_identity_reverted = true\n",
    "    AND revision_seconds_to_identity_revert < 60*60*48\n",
    "GROUP BY wiki_db\n",
    "LIMIT 20\n",
    "'''"
   ]
  },
  {
   "cell_type": "code",
   "execution_count": 31,
   "metadata": {},
   "outputs": [
    {
     "data": {
      "text/html": [
       "<div>\n",
       "<style scoped>\n",
       "    .dataframe tbody tr th:only-of-type {\n",
       "        vertical-align: middle;\n",
       "    }\n",
       "\n",
       "    .dataframe tbody tr th {\n",
       "        vertical-align: top;\n",
       "    }\n",
       "\n",
       "    .dataframe thead th {\n",
       "        text-align: right;\n",
       "    }\n",
       "</style>\n",
       "<table border=\"1\" class=\"dataframe\">\n",
       "  <thead>\n",
       "    <tr style=\"text-align: right;\">\n",
       "      <th></th>\n",
       "      <th>wiki_db</th>\n",
       "      <th>_c1</th>\n",
       "    </tr>\n",
       "  </thead>\n",
       "  <tbody>\n",
       "    <tr>\n",
       "      <td>0</td>\n",
       "      <td>jawiki</td>\n",
       "      <td>410158</td>\n",
       "    </tr>\n",
       "    <tr>\n",
       "      <td>1</td>\n",
       "      <td>sowiki</td>\n",
       "      <td>663</td>\n",
       "    </tr>\n",
       "    <tr>\n",
       "      <td>2</td>\n",
       "      <td>elwiki</td>\n",
       "      <td>121252</td>\n",
       "    </tr>\n",
       "    <tr>\n",
       "      <td>3</td>\n",
       "      <td>swwiki</td>\n",
       "      <td>1134</td>\n",
       "    </tr>\n",
       "  </tbody>\n",
       "</table>\n",
       "</div>"
      ],
      "text/plain": [
       "  wiki_db     _c1\n",
       "0  jawiki  410158\n",
       "1  sowiki     663\n",
       "2  elwiki  121252\n",
       "3  swwiki    1134"
      ]
     },
     "execution_count": 31,
     "metadata": {},
     "output_type": "execute_result"
    }
   ],
   "source": [
    "hive.run(num_revert_query)"
   ]
  },
  {
   "cell_type": "markdown",
   "metadata": {},
   "source": [
    "There's only lots on the larger wikis.\n",
    "\n",
    "Second assumption. How many IP blocks are in my dataset? There should also be lots."
   ]
  },
  {
   "cell_type": "code",
   "execution_count": 49,
   "metadata": {},
   "outputs": [],
   "source": [
    "num_blocks_query = '''\n",
    "SELECT wiki_db, count(*) AS num_blocks\n",
    "    FROM wmf_raw.mediawiki_ipblocks\n",
    "    WHERE snapshot = \"2019-08\"\n",
    "    AND wiki_db IN (\"jawiki\", \"elwiki\", \"sowiki\", \"swwiki\")\n",
    "    AND ipb_timestamp > \"20140801\"\n",
    "    AND ipb_timestamp < \"20190801\"\n",
    "    AND ipb_user = 0 -- only IP blocks\n",
    "    AND ipb_auto = 0 -- no auto-blocks (IP blocked because a blocked user used it)\n",
    "GROUP BY wiki_db\n",
    "LIMIT 20\n",
    "'''"
   ]
  },
  {
   "cell_type": "code",
   "execution_count": 50,
   "metadata": {},
   "outputs": [
    {
     "data": {
      "text/html": [
       "<div>\n",
       "<style scoped>\n",
       "    .dataframe tbody tr th:only-of-type {\n",
       "        vertical-align: middle;\n",
       "    }\n",
       "\n",
       "    .dataframe tbody tr th {\n",
       "        vertical-align: top;\n",
       "    }\n",
       "\n",
       "    .dataframe thead th {\n",
       "        text-align: right;\n",
       "    }\n",
       "</style>\n",
       "<table border=\"1\" class=\"dataframe\">\n",
       "  <thead>\n",
       "    <tr style=\"text-align: right;\">\n",
       "      <th></th>\n",
       "      <th>wiki_db</th>\n",
       "      <th>num_blocks</th>\n",
       "    </tr>\n",
       "  </thead>\n",
       "  <tbody>\n",
       "    <tr>\n",
       "      <td>0</td>\n",
       "      <td>elwiki</td>\n",
       "      <td>14</td>\n",
       "    </tr>\n",
       "    <tr>\n",
       "      <td>1</td>\n",
       "      <td>jawiki</td>\n",
       "      <td>3092</td>\n",
       "    </tr>\n",
       "    <tr>\n",
       "      <td>2</td>\n",
       "      <td>sowiki</td>\n",
       "      <td>4</td>\n",
       "    </tr>\n",
       "    <tr>\n",
       "      <td>3</td>\n",
       "      <td>swwiki</td>\n",
       "      <td>32</td>\n",
       "    </tr>\n",
       "  </tbody>\n",
       "</table>\n",
       "</div>"
      ],
      "text/plain": [
       "  wiki_db  num_blocks\n",
       "0  elwiki          14\n",
       "1  jawiki        3092\n",
       "2  sowiki           4\n",
       "3  swwiki          32"
      ]
     },
     "execution_count": 50,
     "metadata": {},
     "output_type": "execute_result"
    }
   ],
   "source": [
    "hive.run(num_blocks_query)"
   ]
  },
  {
   "cell_type": "markdown",
   "metadata": {},
   "source": [
    "Based on this information, it seems clear that to get any meaningful data on this, we'll have to look at some of the big wikis, because otherwise this doesn't happen often enough. It might also mean that unless we're looking at range blocks, we're not capturing the right information.\n",
    "\n",
    "What's the use of range blocks vs specific IPs on for example English Wikipedia over the last year?"
   ]
  },
  {
   "cell_type": "code",
   "execution_count": 73,
   "metadata": {},
   "outputs": [],
   "source": [
    "range_query = '''\n",
    "SELECT\n",
    "  SUM(IF(ipb_range_start = ipb_range_end, 1, 0)) AS num_singles,\n",
    "  SUM(IF(ipb_range_start != ipb_range_end, 1, 0)) AS num_ranges\n",
    "FROM wmf_raw.mediawiki_ipblocks\n",
    "WHERE snapshot = \"2019-08\"\n",
    "AND wiki_db = \"enwiki\"\n",
    "AND ipb_timestamp >= \"20180801\"\n",
    "AND ipb_timestamp < \"20190801\"\n",
    "AND ipb_user = 0 -- only IP blocks\n",
    "AND ipb_auto = 0 -- no auto-blocks (IP blocked because a blocked user used it)\n",
    "'''"
   ]
  },
  {
   "cell_type": "code",
   "execution_count": 74,
   "metadata": {},
   "outputs": [
    {
     "data": {
      "text/html": [
       "<div>\n",
       "<style scoped>\n",
       "    .dataframe tbody tr th:only-of-type {\n",
       "        vertical-align: middle;\n",
       "    }\n",
       "\n",
       "    .dataframe tbody tr th {\n",
       "        vertical-align: top;\n",
       "    }\n",
       "\n",
       "    .dataframe thead th {\n",
       "        text-align: right;\n",
       "    }\n",
       "</style>\n",
       "<table border=\"1\" class=\"dataframe\">\n",
       "  <thead>\n",
       "    <tr style=\"text-align: right;\">\n",
       "      <th></th>\n",
       "      <th>num_singles</th>\n",
       "      <th>num_ranges</th>\n",
       "    </tr>\n",
       "  </thead>\n",
       "  <tbody>\n",
       "    <tr>\n",
       "      <td>0</td>\n",
       "      <td>55672</td>\n",
       "      <td>10555</td>\n",
       "    </tr>\n",
       "  </tbody>\n",
       "</table>\n",
       "</div>"
      ],
      "text/plain": [
       "   num_singles  num_ranges\n",
       "0        55672       10555"
      ]
     },
     "execution_count": 74,
     "metadata": {},
     "output_type": "execute_result"
    }
   ],
   "source": [
    "hive.run(range_query)"
   ]
  },
  {
   "cell_type": "markdown",
   "metadata": {},
   "source": [
    "So the ratio of single to range blocks for English Wikipedia is about 5:1. English Wikipedia has on average 788,355 anonymous edits per month across the same time period, or about 9.3 million in total. 66,000 blocks versus 9.3 million IP edits, that's not a lot of blocks (NOTE: that conclusion is incorrect, the `ipblocks` table holds the current state of blocks and does not reflect blocking history, that's instead in the `logging` table, which is why the subsequent queries use that table).\n",
    "\n",
    "Another assumption I have to revisit in my query above is that I allow for 48 hours until an edit is reverted, and up to 7 days for the subsequent block. But, I'm not enforcing that the block has to happen after the edit got reverted. I can use `revision_first_identity_reverting_revision_id` to get that revision, then require the block to occur after it. But, the question is whether the block happens before or after that revert. I suspect before, but perhaps not by much."
   ]
  },
  {
   "cell_type": "code",
   "execution_count": 115,
   "metadata": {},
   "outputs": [],
   "source": [
    "## Query to estimate \"time to block\" for reverted IP edits where the user was subsequently blocked.\n",
    "\n",
    "time_to_block_query = '''\n",
    "WITH edits AS (\n",
    "    SELECT wiki_db, unix_timestamp(event_timestamp, \"yyyy-MM-dd hh:mm:ss.0\") AS event_time,\n",
    "    event_user_text, revision_id, revision_first_identity_reverting_revision_id\n",
    "    FROM wmf.mediawiki_history\n",
    "    WHERE snapshot = \"2019-08\"\n",
    "    AND wiki_db IN (\"jawiki\", \"elwiki\", \"sowiki\", \"swwiki\", \"enwiki\", \"frwiki\", \"dewiki\", \"eswiki\")\n",
    "    AND event_timestamp >= \"2018-08-01\"\n",
    "    AND event_timestamp < \"2019-08-01\"\n",
    "    AND event_entity = \"revision\"\n",
    "    AND event_type = \"create\"\n",
    "    AND array_contains(revision_deleted_parts, 'user') = false -- skip revisions w/deleted user info\n",
    "    AND event_user_is_anonymous = true\n",
    "    AND ((revision_is_identity_reverted = true\n",
    "          AND revision_seconds_to_identity_revert < 60*60*48)\n",
    "         OR array_contains(revision_deleted_parts, 'text') = true) -- revision content was deleted\n",
    "),\n",
    "reverts AS (\n",
    "    SELECT wiki_db, unix_timestamp(event_timestamp, \"yyyy-MM-dd hh:mm:ss.0\") AS event_time, revision_id\n",
    "    FROM wmf.mediawiki_history\n",
    "    WHERE snapshot = \"2019-08\"\n",
    "    AND wiki_db IN (\"jawiki\", \"elwiki\", \"sowiki\", \"swwiki\", \"enwiki\", \"frwiki\", \"dewiki\", \"eswiki\")\n",
    "    AND event_timestamp >= \"2018-08-01\"\n",
    "    AND event_timestamp < \"2019-08-03\" -- allow for 48 hours before the revert\n",
    "    AND event_entity = \"revision\"\n",
    "    AND event_type = \"create\"\n",
    "    AND revision_is_identity_revert = true\n",
    "),\n",
    "blocks AS (\n",
    "    SELECT wiki_db, unix_timestamp(log_timestamp, \"yyyyMMddhhmmss\") AS log_time, log_title\n",
    "    FROM wmf_raw.mediawiki_logging\n",
    "    WHERE snapshot = \"2019-08\"\n",
    "    AND wiki_db IN (\"jawiki\", \"elwiki\", \"sowiki\", \"swwiki\", \"enwiki\", \"frwiki\", \"dewiki\", \"eswiki\")\n",
    "    AND log_timestamp >= \"20180801000000\"\n",
    "    AND log_timestamp < \"20190808000000\" -- 7 days after last edit\n",
    "    AND log_type = \"block\"\n",
    "    AND log_action = \"block\"\n",
    ")\n",
    "SELECT edits.wiki_db, event_user_text, edits.revision_id,\n",
    "from_unixtime(edits.event_time) AS event_timestamp,\n",
    "from_unixtime(reverts.event_time) AS revert_timestamp,\n",
    "from_unixtime(log_time) AS block_timestamp,\n",
    "log_time - reverts.event_time AS revert_time_to_block,\n",
    "log_time - edits.event_time AS edit_time_to_block\n",
    "FROM edits\n",
    "JOIN reverts\n",
    "ON (edits.wiki_db = reverts.wiki_db\n",
    "    AND edits.revision_first_identity_reverting_revision_id = reverts.revision_id)\n",
    "CROSS JOIN blocks\n",
    "ON (edits.wiki_db = blocks.wiki_db\n",
    "    AND edits.event_user_text = blocks.log_title)\n",
    "WHERE edits.event_time < blocks.log_time -- block has to come after edit\n",
    "    AND blocks.log_time - edits.event_time < 60*60*24*7 -- less than a week to block\n",
    "'''"
   ]
  },
  {
   "cell_type": "code",
   "execution_count": 116,
   "metadata": {},
   "outputs": [],
   "source": [
    "time_to_block_data = hive.run(time_to_block_query)"
   ]
  },
  {
   "cell_type": "code",
   "execution_count": 117,
   "metadata": {},
   "outputs": [
    {
     "data": {
      "text/plain": [
       "629015"
      ]
     },
     "execution_count": 117,
     "metadata": {},
     "output_type": "execute_result"
    }
   ],
   "source": [
    "len(time_to_block_data)"
   ]
  },
  {
   "cell_type": "code",
   "execution_count": null,
   "metadata": {},
   "outputs": [],
   "source": [
    "time_to_block_data.loc[(time_to_block_data.revert_time_to_block < 60*60*24) |\n",
    "                       (time_to_block_data.edit_time_to_block < 60*60*24)].head(50)"
   ]
  },
  {
   "cell_type": "markdown",
   "metadata": {},
   "source": [
    "After looking at the block data, it seems clear that an IP gets blocked because they've made *multiple* edits that get reverted. So, they show up multiple times in the dataset. That also means that the data is skewed towards those. Doesn't seem like a user making a single edit is going to get them reverted."
   ]
  },
  {
   "cell_type": "code",
   "execution_count": 125,
   "metadata": {},
   "outputs": [
    {
     "data": {
      "image/png": "[encoded data removed]"
     },
     "metadata": {},
     "output_type": "display_data"
    }
   ],
   "source": [
    "%%R -i time_to_block_data\n",
    "\n",
    "time_to_block_data = data.table(time_to_block_data)\n",
    "\n",
    "g = ggplot(time_to_block_data,\n",
    "       aes(x = edit_time_to_block)) + \n",
    "  geom_histogram(binwidth = 0.05, colour=\"black\", fill='white') +\n",
    "    ggtitle(\"Edit time to block\") +\n",
    "  scale_x_log10(\n",
    "    \"Time\",\n",
    "    breaks=c(60, 15*60, 60*60, 3*3600, 6*3600, 12*3600, 24*60*60, 7*24*60*60, 30*24*60*60, 365*24*60*60),\n",
    "    labels=c(\"minute\", \"15 min.\", \"hour\", \"3 hrs\", \"6 hrs\", \"12 hrs\", \"day\", \"week\", \"month\", \"year\")) +\n",
    "  facet_grid(wiki_db ~ .)\n",
    "\n",
    "ggsave(\"graphs/edit_time_to_block.png\",\n",
    "       plot = g, width = 8, height = 6, units = \"in\", dpi = \"retina\")\n",
    "g"
   ]
  },
  {
   "cell_type": "markdown",
   "metadata": {},
   "source": [
    "This looks more sane."
   ]
  },
  {
   "cell_type": "code",
   "execution_count": 124,
   "metadata": {},
   "outputs": [
    {
     "data": {
      "text/plain": [
       "378294"
      ]
     },
     "execution_count": 124,
     "metadata": {},
     "output_type": "execute_result"
    }
   ],
   "source": [
    "len(time_to_block_data.loc[time_to_block_data.wiki_db == 'enwiki'])"
   ]
  },
  {
   "cell_type": "code",
   "execution_count": 123,
   "metadata": {},
   "outputs": [
    {
     "data": {
      "image/png": "[encoded data removed]"
     },
     "metadata": {},
     "output_type": "display_data"
    }
   ],
   "source": [
    "%%R -i time_to_block_data\n",
    "\n",
    "time_to_block_data = data.table(time_to_block_data)\n",
    "\n",
    "g = ggplot(time_to_block_data[wiki_db == \"enwiki\"],\n",
    "       aes(x = edit_time_to_block)) + \n",
    "  geom_histogram(binwidth = 0.05, colour=\"black\", fill='white') +\n",
    "    ggtitle(\"Edit time to block\") +\n",
    "  scale_x_log10(\n",
    "    \"Time\",\n",
    "    breaks=c(60, 15*60, 60*60, 3*3600, 6*3600, 12*3600, 24*60*60, 7*24*60*60, 30*24*60*60, 365*24*60*60),\n",
    "    labels=c(\"minute\", \"15 min.\", \"hour\", \"3 hrs\", \"6 hrs\", \"12 hrs\", \"day\", \"week\", \"month\", \"year\"))\n",
    "\n",
    "ggsave(\"graphs/enwiki_edit_time_to_block.png\",\n",
    "       plot = g, width = 8, height = 6, units = \"in\", dpi = \"retina\")\n",
    "g"
   ]
  },
  {
   "cell_type": "markdown",
   "metadata": {},
   "source": [
    "Examining these plots, we can see some trends and distinctions. There's consistently a bump at 12 hours. That might be because the buckets get wider towards the right (due to the log scale X-axis), but given the difference between the previous bucket and the 12 hours one, there seems to clearly be an increase happening around the 12-hour mark. Looking more closely at the English Wikiedia graph, we see that the increase starts before the 12-hour mark, the minimum is instead around 6 hours, but there is a definite jump at 12 hours.\n",
    "\n",
    "From the plot showing multiple wikis, we can also see differences in time between them. German and French Wikipedia appear to react very quickly. Spanish Wikipedia is different, there the spread looks wider. Where dewiki and frwiki looks to be focused on the seconds/minute to one hour, eswiki looks like 15 mins to 3 hours or so.\n",
    "\n",
    "First, let's go back to the original four wikis to get a sense of how things work there."
   ]
  },
  {
   "cell_type": "code",
   "execution_count": 126,
   "metadata": {},
   "outputs": [
    {
     "data": {
      "image/png": "[encoded data removed]"
     },
     "metadata": {},
     "output_type": "display_data"
    }
   ],
   "source": [
    "%%R -i time_to_block_data\n",
    "\n",
    "time_to_block_data = data.table(time_to_block_data)\n",
    "\n",
    "g = ggplot(time_to_block_data[wiki_db %in% c('jawiki', 'elwiki', 'sowiki', 'swwiki')],\n",
    "       aes(x = edit_time_to_block)) + \n",
    "  geom_histogram(binwidth = 0.05, colour=\"black\", fill='white') +\n",
    "    ggtitle(\"Edit time to block\") +\n",
    "  scale_x_log10(\n",
    "    \"Time\",\n",
    "    breaks=c(60, 15*60, 60*60, 3*3600, 6*3600, 12*3600, 24*60*60, 7*24*60*60, 30*24*60*60, 365*24*60*60),\n",
    "    labels=c(\"minute\", \"15 min.\", \"hour\", \"3 hrs\", \"6 hrs\", \"12 hrs\", \"day\", \"week\", \"month\", \"year\")) +\n",
    "  facet_grid(wiki_db ~ .)\n",
    "\n",
    "#ggsave(\"graphs/edit_time_to_block.png\",\n",
    "#       plot = g, width = 8, height = 6, units = \"in\", dpi = \"retina\")\n",
    "g"
   ]
  },
  {
   "cell_type": "markdown",
   "metadata": {},
   "source": [
    "I was mainly interested in examining the original four to see whether to set a threshold at 3 hours or 6 hours. Based on the Japanese and Greek plots, I think setting it at 6 hours makes sense.\n",
    "\n",
    "So, similarly as before, we want a query that for each month in our 12-month window gives us the total number of edits, number of IP edits, number of IP edits that were reverted (within 48 hours), number of IP edits that had the content deleted (at some point, we don't know when), number of edits that were either reverted that were subsequently blocked within 6 hours, number of edits with content revdeleted that were blocked within 6 hours.\n",
    "\n",
    "Note that being reverted and having the content revdeleted are mutually exclusive, so we can add them together later. We should also note that an IP can make multiple edits and then be blocked, so prolific ones will be featured more often in the dataset.\n",
    "\n",
    "Because it's easier to write two queries instead of one that gets everything, I'll first reuse the query from the initial analysis to get the number of IP edits per month, then join that with data from another query that gets the number of IP edits that were reverted, revdeleted, and blocked.\n",
    "\n",
    "Note that the task asks for this data on IP edits, and not for registered accounts, so we're not doing a comparative analysis."
   ]
  },
  {
   "cell_type": "code",
   "execution_count": 141,
   "metadata": {},
   "outputs": [],
   "source": [
    "## Query to count IP edits overall.\n",
    "\n",
    "overall_ip_edits_query = '''\n",
    "SELECT wiki_db, DATE_FORMAT(event_timestamp, \"yyyy-MM-01\") AS log_month,\n",
    "    COUNT(*) AS num_edits,\n",
    "    SUM(IF(revision_is_identity_reverted = true\n",
    "            AND revision_seconds_to_identity_revert < 60*60*48, 1, 0)) AS num_reverted,\n",
    "    SUM(IF(array_contains(revision_deleted_parts, 'text') = true, 1, 0)) AS num_deleted\n",
    "FROM wmf.mediawiki_history\n",
    "WHERE snapshot = \"{snapshot}\"\n",
    "AND event_entity = \"revision\"\n",
    "AND event_type = \"create\"\n",
    "AND array_contains(revision_deleted_parts, 'user') = false -- skip revisions w/deleted user info\n",
    "AND event_timestamp >= \"{start_date}\"\n",
    "AND event_timestamp < \"{end_date}\"\n",
    "AND wiki_db IN ({wiki_list})\n",
    "AND event_user_is_anonymous = true\n",
    "GROUP BY wiki_db, DATE_FORMAT(event_timestamp, \"yyyy-MM-01\")\n",
    "LIMIT 50000\n",
    "'''"
   ]
  },
  {
   "cell_type": "code",
   "execution_count": 135,
   "metadata": {},
   "outputs": [],
   "source": [
    "## Query to count stats for IP edits that were reverted and/or revdeleted\n",
    "## and subsequently blocked or not.\n",
    "\n",
    "revert_block_query = '''\n",
    "WITH edits AS (\n",
    "    SELECT wiki_db, DATE_FORMAT(event_timestamp, \"yyyy-MM-01\") AS log_month,\n",
    "    unix_timestamp(event_timestamp, \"yyyy-MM-dd hh:mm:ss.0\") AS event_time, event_user_text,\n",
    "    revision_is_identity_reverted, revision_seconds_to_identity_revert, revision_deleted_parts\n",
    "    FROM wmf.mediawiki_history\n",
    "    WHERE snapshot = \"{snapshot}\"\n",
    "    AND wiki_db IN ({wiki_list})\n",
    "    AND event_timestamp >= \"{start_date}\"\n",
    "    AND event_timestamp < \"{end_date}\"\n",
    "    AND event_entity = \"revision\"\n",
    "    AND event_type = \"create\"\n",
    "    AND array_contains(revision_deleted_parts, 'user') = false -- skip revisions w/deleted user info\n",
    "    AND event_user_is_anonymous = true\n",
    "    AND ((revision_is_identity_reverted = true\n",
    "          AND revision_seconds_to_identity_revert < 60*60*48)\n",
    "         OR array_contains(revision_deleted_parts, 'text') = true) -- revision content was deleted\n",
    "),\n",
    "blocks AS (\n",
    "    SELECT wiki_db, unix_timestamp(log_timestamp, \"yyyyMMddhhmmss\") AS log_time, log_title\n",
    "    FROM wmf_raw.mediawiki_logging\n",
    "    WHERE snapshot = \"{snapshot}\"\n",
    "    AND wiki_db IN ({wiki_list})\n",
    "    AND log_timestamp >= \"{start_ts}\"\n",
    "    AND log_timestamp < \"{end_ts}\" -- 6 hours after last edit\n",
    "    AND log_type = \"block\"\n",
    "    AND log_action = \"block\"\n",
    ")\n",
    "SELECT edits.wiki_db, from_unixtime(event_time, \"yyyy-MM-01\") AS log_month,\n",
    "    SUM(IF(revision_is_identity_reverted\n",
    "           AND revision_seconds_to_identity_revert < 3600*48, 1, 0)) AS num_reverted_blocked,\n",
    "    SUM(IF(array_contains(revision_deleted_parts, 'text') = true, 1, 0)) AS num_deleted_blocked\n",
    "FROM edits\n",
    "CROSS JOIN blocks\n",
    "ON (edits.wiki_db = blocks.wiki_db\n",
    "    AND edits.event_user_text = blocks.log_title)\n",
    "WHERE edits.event_time < blocks.log_time -- block has to come after edit\n",
    "      AND blocks.log_time - edits.event_time < 3600*6 -- less than 6 hours to block\n",
    "GROUP BY edits.wiki_db, from_unixtime(event_time, \"yyyy-MM-01\")\n",
    "LIMIT 50000\n",
    "'''"
   ]
  },
  {
   "cell_type": "markdown",
   "metadata": {},
   "source": [
    "Let's run both queries to get the data that we need, then join them."
   ]
  },
  {
   "cell_type": "code",
   "execution_count": 142,
   "metadata": {},
   "outputs": [],
   "source": [
    "## NOTE: we limit the data gathering of edit counts to only open and public wikis here.\n",
    "overall_ip_edits = hive.run(\n",
    "    overall_ip_edits_query.format(\n",
    "        snapshot = '2019-08',\n",
    "        start_date = '2018-09-01',\n",
    "        end_date = '2019-09-01',\n",
    "        wiki_list = ', '.join(\n",
    "            ['\"{}\"'.format(w) for w in wikis.loc[(wikis.status == 'open') &\n",
    "                                                 (wikis.visbility == 'public')].index.tolist()])\n",
    "    )\n",
    ")"
   ]
  },
  {
   "cell_type": "code",
   "execution_count": null,
   "metadata": {},
   "outputs": [],
   "source": [
    "## NOTE: we limit the data gathering of edit counts to only open and public wikis here.\n",
    "\n",
    "blocked_ip_edits = hive.run(\n",
    "    revert_block_query.format(\n",
    "        snapshot = '2019-08',\n",
    "        start_date = '2018-09-01',\n",
    "        end_date = '2019-09-01',\n",
    "        start_ts = '20180901000000',\n",
    "        end_ts = '20190901060000',\n",
    "        wiki_list = ', '.join(\n",
    "            ['\"{}\"'.format(w) for w in wikis.loc[(wikis.status == 'open') &\n",
    "                                                 (wikis.visbility == 'public')].index.tolist()])\n",
    "    )\n",
    ")"
   ]
  },
  {
   "cell_type": "code",
   "execution_count": null,
   "metadata": {},
   "outputs": [],
   "source": [
    "blocked_ip_edits.head()"
   ]
  },
  {
   "cell_type": "markdown",
   "metadata": {},
   "source": [
    "Okay, it looks like I've got the data that I need. Merge them on wiki and month."
   ]
  },
  {
   "cell_type": "code",
   "execution_count": 143,
   "metadata": {},
   "outputs": [],
   "source": [
    "blocked_data = overall_ip_edits.merge(blocked_ip_edits, how = 'left',\n",
    "                                     on = ['wiki_db', 'log_month']).fillna(0)"
   ]
  },
  {
   "cell_type": "code",
   "execution_count": 147,
   "metadata": {},
   "outputs": [
    {
     "data": {
      "text/html": [
       "<div>\n",
       "<style scoped>\n",
       "    .dataframe tbody tr th:only-of-type {\n",
       "        vertical-align: middle;\n",
       "    }\n",
       "\n",
       "    .dataframe tbody tr th {\n",
       "        vertical-align: top;\n",
       "    }\n",
       "\n",
       "    .dataframe thead th {\n",
       "        text-align: right;\n",
       "    }\n",
       "</style>\n",
       "<table border=\"1\" class=\"dataframe\">\n",
       "  <thead>\n",
       "    <tr style=\"text-align: right;\">\n",
       "      <th></th>\n",
       "      <th>wiki_db</th>\n",
       "      <th>log_month</th>\n",
       "      <th>num_edits</th>\n",
       "      <th>num_reverted</th>\n",
       "      <th>num_deleted</th>\n",
       "      <th>num_reverted_blocked</th>\n",
       "      <th>num_deleted_blocked</th>\n",
       "    </tr>\n",
       "  </thead>\n",
       "  <tbody>\n",
       "    <tr>\n",
       "      <td>0</td>\n",
       "      <td>bgwikibooks</td>\n",
       "      <td>2018-10-01</td>\n",
       "      <td>4</td>\n",
       "      <td>0</td>\n",
       "      <td>0</td>\n",
       "      <td>0.0</td>\n",
       "      <td>0.0</td>\n",
       "    </tr>\n",
       "    <tr>\n",
       "      <td>1</td>\n",
       "      <td>chrwiki</td>\n",
       "      <td>2019-07-01</td>\n",
       "      <td>6</td>\n",
       "      <td>4</td>\n",
       "      <td>0</td>\n",
       "      <td>0.0</td>\n",
       "      <td>0.0</td>\n",
       "    </tr>\n",
       "    <tr>\n",
       "      <td>2</td>\n",
       "      <td>eowikibooks</td>\n",
       "      <td>2019-06-01</td>\n",
       "      <td>5</td>\n",
       "      <td>0</td>\n",
       "      <td>0</td>\n",
       "      <td>0.0</td>\n",
       "      <td>0.0</td>\n",
       "    </tr>\n",
       "    <tr>\n",
       "      <td>3</td>\n",
       "      <td>eswiktionary</td>\n",
       "      <td>2018-10-01</td>\n",
       "      <td>3922</td>\n",
       "      <td>539</td>\n",
       "      <td>104</td>\n",
       "      <td>17.0</td>\n",
       "      <td>15.0</td>\n",
       "    </tr>\n",
       "    <tr>\n",
       "      <td>4</td>\n",
       "      <td>liwiktionary</td>\n",
       "      <td>2018-11-01</td>\n",
       "      <td>2</td>\n",
       "      <td>1</td>\n",
       "      <td>0</td>\n",
       "      <td>0.0</td>\n",
       "      <td>0.0</td>\n",
       "    </tr>\n",
       "  </tbody>\n",
       "</table>\n",
       "</div>"
      ],
      "text/plain": [
       "        wiki_db   log_month  num_edits  num_reverted  num_deleted  \\\n",
       "0   bgwikibooks  2018-10-01          4             0            0   \n",
       "1       chrwiki  2019-07-01          6             4            0   \n",
       "2   eowikibooks  2019-06-01          5             0            0   \n",
       "3  eswiktionary  2018-10-01       3922           539          104   \n",
       "4  liwiktionary  2018-11-01          2             1            0   \n",
       "\n",
       "   num_reverted_blocked  num_deleted_blocked  \n",
       "0                   0.0                  0.0  \n",
       "1                   0.0                  0.0  \n",
       "2                   0.0                  0.0  \n",
       "3                  17.0                 15.0  \n",
       "4                   0.0                  0.0  "
      ]
     },
     "execution_count": 147,
     "metadata": {},
     "output_type": "execute_result"
    }
   ],
   "source": [
    "blocked_data.head()"
   ]
  },
  {
   "cell_type": "markdown",
   "metadata": {},
   "source": [
    "## Yearly stats\n",
    "\n",
    "Over the past year, how many IP edits did we have on each project, and to what extent were those edits reverted or revdeleted, and did the reverts/revdeletions result in blocks?"
   ]
  },
  {
   "cell_type": "code",
   "execution_count": null,
   "metadata": {},
   "outputs": [],
   "source": [
    "wikis.head()"
   ]
  },
  {
   "cell_type": "code",
   "execution_count": 174,
   "metadata": {},
   "outputs": [],
   "source": [
    "yearly_stats = (blocked_data.set_index('wiki_db')\n",
    "                .merge(wikis[['database_group']], left_index = True, right_index = True)\n",
    "                .reset_index().groupby('database_group').sum())"
   ]
  },
  {
   "cell_type": "markdown",
   "metadata": {},
   "source": [
    "Note: it might be confusing to see all the wikimedia projects in the yearly stats. Those are the local chapter wikis. Would perhaps be useful if they had their own database group designation (e.g. wikimedia, but that might be reserved for the WMF)."
   ]
  },
  {
   "cell_type": "code",
   "execution_count": 176,
   "metadata": {},
   "outputs": [
    {
     "data": {
      "text/html": [
       "<div>\n",
       "<style scoped>\n",
       "    .dataframe tbody tr th:only-of-type {\n",
       "        vertical-align: middle;\n",
       "    }\n",
       "\n",
       "    .dataframe tbody tr th {\n",
       "        vertical-align: top;\n",
       "    }\n",
       "\n",
       "    .dataframe thead th {\n",
       "        text-align: right;\n",
       "    }\n",
       "</style>\n",
       "<table border=\"1\" class=\"dataframe\">\n",
       "  <thead>\n",
       "    <tr style=\"text-align: right;\">\n",
       "      <th></th>\n",
       "      <th>num_edits</th>\n",
       "      <th>num_reverted</th>\n",
       "      <th>num_deleted</th>\n",
       "      <th>num_reverted_blocked</th>\n",
       "      <th>num_deleted_blocked</th>\n",
       "    </tr>\n",
       "    <tr>\n",
       "      <th>database_group</th>\n",
       "      <th></th>\n",
       "      <th></th>\n",
       "      <th></th>\n",
       "      <th></th>\n",
       "      <th></th>\n",
       "    </tr>\n",
       "  </thead>\n",
       "  <tbody>\n",
       "    <tr>\n",
       "      <td>arwikimedia</td>\n",
       "      <td>18</td>\n",
       "      <td>0</td>\n",
       "      <td>0</td>\n",
       "      <td>0.0</td>\n",
       "      <td>0.0</td>\n",
       "    </tr>\n",
       "    <tr>\n",
       "      <td>bdwikimedia</td>\n",
       "      <td>18</td>\n",
       "      <td>6</td>\n",
       "      <td>0</td>\n",
       "      <td>3.0</td>\n",
       "      <td>0.0</td>\n",
       "    </tr>\n",
       "    <tr>\n",
       "      <td>betawikiversity</td>\n",
       "      <td>13932</td>\n",
       "      <td>538</td>\n",
       "      <td>0</td>\n",
       "      <td>23.0</td>\n",
       "      <td>0.0</td>\n",
       "    </tr>\n",
       "    <tr>\n",
       "      <td>bewikimedia</td>\n",
       "      <td>13</td>\n",
       "      <td>1</td>\n",
       "      <td>0</td>\n",
       "      <td>0.0</td>\n",
       "      <td>0.0</td>\n",
       "    </tr>\n",
       "    <tr>\n",
       "      <td>brwikimedia</td>\n",
       "      <td>15</td>\n",
       "      <td>0</td>\n",
       "      <td>0</td>\n",
       "      <td>0.0</td>\n",
       "      <td>0.0</td>\n",
       "    </tr>\n",
       "  </tbody>\n",
       "</table>\n",
       "</div>"
      ],
      "text/plain": [
       "                 num_edits  num_reverted  num_deleted  num_reverted_blocked  \\\n",
       "database_group                                                                \n",
       "arwikimedia             18             0            0                   0.0   \n",
       "bdwikimedia             18             6            0                   3.0   \n",
       "betawikiversity      13932           538            0                  23.0   \n",
       "bewikimedia             13             1            0                   0.0   \n",
       "brwikimedia             15             0            0                   0.0   \n",
       "\n",
       "                 num_deleted_blocked  \n",
       "database_group                        \n",
       "arwikimedia                      0.0  \n",
       "bdwikimedia                      0.0  \n",
       "betawikiversity                  0.0  \n",
       "bewikimedia                      0.0  \n",
       "brwikimedia                      0.0  "
      ]
     },
     "execution_count": 176,
     "metadata": {},
     "output_type": "execute_result"
    }
   ],
   "source": [
    "yearly_stats.head()"
   ]
  },
  {
   "cell_type": "code",
   "execution_count": 178,
   "metadata": {},
   "outputs": [],
   "source": [
    "yearly_stats['prop_reverted'] = 100 * yearly_stats['num_reverted'] / yearly_stats['num_edits']\n",
    "yearly_stats['prop_revdeleted'] = 100 * yearly_stats['num_deleted'] / yearly_stats['num_edits']\n",
    "yearly_stats['prop_reverted_blocked'] = 100 * yearly_stats['num_reverted_blocked'] / yearly_stats['num_edits']\n",
    "yearly_stats['prop_revdeleted_blocked'] = 100 * yearly_stats['num_deleted_blocked'] / yearly_stats['num_edits']"
   ]
  },
  {
   "cell_type": "code",
   "execution_count": null,
   "metadata": {},
   "outputs": [],
   "source": []
  },
  {
   "cell_type": "markdown",
   "metadata": {},
   "source": [
    "What are the projects we're interested in? I propose the following, although I can see the Outreach wiki also being one of them."
   ]
  },
  {
   "cell_type": "code",
   "execution_count": null,
   "metadata": {},
   "outputs": [],
   "source": [
    "projects = ['commons', 'mediawiki', 'meta', 'wikibooks', 'wikidata', 'wikinews', 'wikipedia',\n",
    "            'wikiquote', 'wikisource', 'wikiversity', 'wikivoyage', 'wiktionary']"
   ]
  },
  {
   "cell_type": "code",
   "execution_count": null,
   "metadata": {},
   "outputs": [],
   "source": [
    "print(\n",
    "    tabulate.tabulate(\n",
    "        yearly_stats.loc[projects]\n",
    "        [['num_edits', 'num_reverted', 'prop_reverted', 'num_deleted', 'prop_revdeleted',\n",
    "          'num_reverted_blocked', 'prop_reverted_blocked', 'num_deleted_blocked', 'prop_revdeleted_blocked']]\n",
    "        .rename(\n",
    "            columns = {'num_edits' : 'N IP edits',\n",
    "                       'num_reverted' : 'N reverted',\n",
    "                       'prop_reverted' : '% reverted',\n",
    "                       'num_deleted' : 'N revdeleted',\n",
    "                       'prop_revdeleted' : '% revdeleted',\n",
    "                       'num_reverted_blocked' : 'N reverted blocked',\n",
    "                       'prop_reverted_blocked' : '% reverted blocked',\n",
    "                       'num_deleted_blocked' : 'N revdeleted blocked',\n",
    "                       'prop_revdeleted_blocked' : '% revdeleted blocked'}\n",
    "        ), headers = 'keys', tablefmt = 'github',\n",
    "        floatfmt=[\"f\", \".0f\", \".0f\", \".1f\", \".0f\", \".1f\", \".0f\", \".1f\", \".0f\", \".1f\", \".0f\", \".1f\"]\n",
    "    )\n",
    ")"
   ]
  },
  {
   "cell_type": "code",
   "execution_count": null,
   "metadata": {},
   "outputs": [],
   "source": [
    "print(\n",
    "    tabulate.tabulate(\n",
    "        yearly_stats.loc[projects]\n",
    "        [['num_edits', 'num_reverted', 'prop_reverted', 'num_deleted', 'prop_revdeleted',\n",
    "          'num_reverted_blocked', 'prop_reverted_blocked', 'num_deleted_blocked', 'prop_revdeleted_blocked']]\n",
    "        .rename(\n",
    "            columns = {'num_edits' : 'N IP edits',\n",
    "                       'num_reverted' : 'N reverted',\n",
    "                       'prop_reverted' : '% reverted',\n",
    "                       'num_deleted' : 'N revdeleted',\n",
    "                       'prop_revdeleted' : '% revdeleted',\n",
    "                       'num_reverted_blocked' : 'N reverted blocked',\n",
    "                       'prop_reverted_blocked' : '% reverted blocked',\n",
    "                       'num_deleted_blocked' : 'N revdeleted blocked',\n",
    "                       'prop_revdeleted_blocked' : '% revdeleted blocked'}\n",
    "        ), headers = 'keys', tablefmt = 'mediawiki',\n",
    "        floatfmt=[\"f\", \".0f\", \".0f\", \".1f\", \".0f\", \".1f\", \".0f\", \".1f\", \".0f\", \".1f\", \".0f\", \".1f\"]\n",
    "    )\n",
    ")"
   ]
  },
  {
   "cell_type": "code",
   "execution_count": null,
   "metadata": {},
   "outputs": [],
   "source": []
  },
  {
   "cell_type": "markdown",
   "metadata": {},
   "source": [
    "## Per-project statistics\n",
    "\n",
    "For each of the overarching projects, we want to split it out by language, calculate monthly averages and provide min/max values as well."
   ]
  },
  {
   "cell_type": "code",
   "execution_count": 148,
   "metadata": {},
   "outputs": [],
   "source": [
    "per_project_stats = (blocked_data.set_index('wiki_db')\n",
    "                     .merge(wikis[['database_group', 'language_name']],\n",
    "                            left_index = True, right_index = True)\n",
    "                     .reset_index().rename(columns = {'index': 'wiki_db'}))\n",
    "per_project_stats = per_project_stats.loc[per_project_stats.database_group.isin(projects)]"
   ]
  },
  {
   "cell_type": "code",
   "execution_count": 150,
   "metadata": {},
   "outputs": [
    {
     "data": {
      "text/html": [
       "<div>\n",
       "<style scoped>\n",
       "    .dataframe tbody tr th:only-of-type {\n",
       "        vertical-align: middle;\n",
       "    }\n",
       "\n",
       "    .dataframe tbody tr th {\n",
       "        vertical-align: top;\n",
       "    }\n",
       "\n",
       "    .dataframe thead th {\n",
       "        text-align: right;\n",
       "    }\n",
       "</style>\n",
       "<table border=\"1\" class=\"dataframe\">\n",
       "  <thead>\n",
       "    <tr style=\"text-align: right;\">\n",
       "      <th></th>\n",
       "      <th>wiki_db</th>\n",
       "      <th>log_month</th>\n",
       "      <th>num_edits</th>\n",
       "      <th>num_reverted</th>\n",
       "      <th>num_deleted</th>\n",
       "      <th>num_reverted_blocked</th>\n",
       "      <th>num_deleted_blocked</th>\n",
       "      <th>database_group</th>\n",
       "      <th>language_name</th>\n",
       "    </tr>\n",
       "  </thead>\n",
       "  <tbody>\n",
       "    <tr>\n",
       "      <td>0</td>\n",
       "      <td>abwiki</td>\n",
       "      <td>2018-10-01</td>\n",
       "      <td>22</td>\n",
       "      <td>0</td>\n",
       "      <td>0</td>\n",
       "      <td>0.0</td>\n",
       "      <td>0.0</td>\n",
       "      <td>wikipedia</td>\n",
       "      <td>Abkhazian</td>\n",
       "    </tr>\n",
       "    <tr>\n",
       "      <td>1</td>\n",
       "      <td>abwiki</td>\n",
       "      <td>2018-12-01</td>\n",
       "      <td>4</td>\n",
       "      <td>0</td>\n",
       "      <td>0</td>\n",
       "      <td>0.0</td>\n",
       "      <td>0.0</td>\n",
       "      <td>wikipedia</td>\n",
       "      <td>Abkhazian</td>\n",
       "    </tr>\n",
       "    <tr>\n",
       "      <td>2</td>\n",
       "      <td>abwiki</td>\n",
       "      <td>2019-02-01</td>\n",
       "      <td>4</td>\n",
       "      <td>0</td>\n",
       "      <td>0</td>\n",
       "      <td>0.0</td>\n",
       "      <td>0.0</td>\n",
       "      <td>wikipedia</td>\n",
       "      <td>Abkhazian</td>\n",
       "    </tr>\n",
       "    <tr>\n",
       "      <td>3</td>\n",
       "      <td>abwiki</td>\n",
       "      <td>2019-04-01</td>\n",
       "      <td>89</td>\n",
       "      <td>17</td>\n",
       "      <td>0</td>\n",
       "      <td>0.0</td>\n",
       "      <td>0.0</td>\n",
       "      <td>wikipedia</td>\n",
       "      <td>Abkhazian</td>\n",
       "    </tr>\n",
       "    <tr>\n",
       "      <td>4</td>\n",
       "      <td>abwiki</td>\n",
       "      <td>2019-06-01</td>\n",
       "      <td>196</td>\n",
       "      <td>22</td>\n",
       "      <td>0</td>\n",
       "      <td>5.0</td>\n",
       "      <td>0.0</td>\n",
       "      <td>wikipedia</td>\n",
       "      <td>Abkhazian</td>\n",
       "    </tr>\n",
       "  </tbody>\n",
       "</table>\n",
       "</div>"
      ],
      "text/plain": [
       "  wiki_db   log_month  num_edits  num_reverted  num_deleted  \\\n",
       "0  abwiki  2018-10-01         22             0            0   \n",
       "1  abwiki  2018-12-01          4             0            0   \n",
       "2  abwiki  2019-02-01          4             0            0   \n",
       "3  abwiki  2019-04-01         89            17            0   \n",
       "4  abwiki  2019-06-01        196            22            0   \n",
       "\n",
       "   num_reverted_blocked  num_deleted_blocked database_group language_name  \n",
       "0                   0.0                  0.0      wikipedia     Abkhazian  \n",
       "1                   0.0                  0.0      wikipedia     Abkhazian  \n",
       "2                   0.0                  0.0      wikipedia     Abkhazian  \n",
       "3                   0.0                  0.0      wikipedia     Abkhazian  \n",
       "4                   5.0                  0.0      wikipedia     Abkhazian  "
      ]
     },
     "execution_count": 150,
     "metadata": {},
     "output_type": "execute_result"
    }
   ],
   "source": [
    "per_project_stats.head()"
   ]
  },
  {
   "cell_type": "code",
   "execution_count": 165,
   "metadata": {},
   "outputs": [],
   "source": [
    "def monthly_overview(group):\n",
    "    aggs = {\n",
    "        'mean_ip_edits' : group['num_edits'].mean(),\n",
    "        'mean_reverted' : group['num_reverted'].mean(),\n",
    "        'mean_revdeleted' : group['num_deleted'].mean(),\n",
    "        'mean_reverted_blocked' : group['num_reverted_blocked'].mean(),\n",
    "        'mean_revdeleted_blocked' : group['num_deleted_blocked'].mean(),\n",
    "        'mean_prop_reverted' : 100 * group['num_reverted'].mean() / group['num_edits'].mean(),\n",
    "        'min_prop_reverted' : 100 * np.min(group['num_reverted'] / group['num_edits']),\n",
    "        'max_prop_reverted' : 100 * np.max(group['num_reverted'] / group['num_edits']),\n",
    "        'mean_prop_revdeleted' : 100 * group['num_deleted'].mean() / group['num_edits'].mean(),\n",
    "        'min_prop_revdeleted' : 100 * np.min(group['num_deleted'] / group['num_edits']),\n",
    "        'max_prop_revdeleted' : 100 * np.max(group['num_deleted'] / group['num_edits']),\n",
    "        'mean_prop_reverted_blocked' : 100 * group['num_reverted_blocked'].mean() / group['num_edits'].mean(),\n",
    "        'min_prop_reverted_blocked' : 100 * np.min(group['num_reverted_blocked'] / group['num_edits']),\n",
    "        'max_prop_reverted_blocked' : 100 * np.max(group['num_reverted_blocked'] / group['num_edits']),\n",
    "        'mean_prop_revdeleted_blocked' : 100 * group['num_deleted_blocked'].mean() / group['num_edits'].mean(),\n",
    "        'min_prop_revdeleted_blocked' : 100 * np.min(group['num_deleted_blocked'] / group['num_edits']),\n",
    "        'max_prop_revdeleted_blocked' : 100 * np.max(group['num_deleted_blocked'] / group['num_edits']),\n",
    "                                                                                                               \n",
    "    }\n",
    "    return(pd.Series(aggs, index = aggs.keys()))"
   ]
  },
  {
   "cell_type": "code",
   "execution_count": 166,
   "metadata": {},
   "outputs": [],
   "source": [
    "per_project_stats_agg = per_project_stats.groupby(['database_group', 'language_name']).apply(monthly_overview)"
   ]
  },
  {
   "cell_type": "code",
   "execution_count": 167,
   "metadata": {},
   "outputs": [],
   "source": [
    "per_project_stats_agg = per_project_stats_agg.reset_index().set_index('database_group')"
   ]
  },
  {
   "cell_type": "code",
   "execution_count": 168,
   "metadata": {},
   "outputs": [
    {
     "data": {
      "text/html": [
       "<div>\n",
       "<style scoped>\n",
       "    .dataframe tbody tr th:only-of-type {\n",
       "        vertical-align: middle;\n",
       "    }\n",
       "\n",
       "    .dataframe tbody tr th {\n",
       "        vertical-align: top;\n",
       "    }\n",
       "\n",
       "    .dataframe thead th {\n",
       "        text-align: right;\n",
       "    }\n",
       "</style>\n",
       "<table border=\"1\" class=\"dataframe\">\n",
       "  <thead>\n",
       "    <tr style=\"text-align: right;\">\n",
       "      <th></th>\n",
       "      <th>language_name</th>\n",
       "      <th>mean_reverted_blocked</th>\n",
       "      <th>min_prop_reverted</th>\n",
       "      <th>mean_prop_revdeleted_blocked</th>\n",
       "      <th>max_prop_reverted</th>\n",
       "      <th>mean_prop_reverted</th>\n",
       "      <th>mean_revdeleted_blocked</th>\n",
       "      <th>mean_prop_revdeleted</th>\n",
       "      <th>max_prop_revdeleted_blocked</th>\n",
       "      <th>mean_prop_reverted_blocked</th>\n",
       "      <th>mean_revdeleted</th>\n",
       "      <th>mean_ip_edits</th>\n",
       "      <th>min_prop_revdeleted_blocked</th>\n",
       "      <th>mean_reverted</th>\n",
       "      <th>max_prop_revdeleted</th>\n",
       "      <th>min_prop_reverted_blocked</th>\n",
       "      <th>max_prop_reverted_blocked</th>\n",
       "      <th>min_prop_revdeleted</th>\n",
       "    </tr>\n",
       "    <tr>\n",
       "      <th>database_group</th>\n",
       "      <th></th>\n",
       "      <th></th>\n",
       "      <th></th>\n",
       "      <th></th>\n",
       "      <th></th>\n",
       "      <th></th>\n",
       "      <th></th>\n",
       "      <th></th>\n",
       "      <th></th>\n",
       "      <th></th>\n",
       "      <th></th>\n",
       "      <th></th>\n",
       "      <th></th>\n",
       "      <th></th>\n",
       "      <th></th>\n",
       "      <th></th>\n",
       "      <th></th>\n",
       "      <th></th>\n",
       "    </tr>\n",
       "  </thead>\n",
       "  <tbody>\n",
       "    <tr>\n",
       "      <td>wikipedia</td>\n",
       "      <td>English</td>\n",
       "      <td>20953.25</td>\n",
       "      <td>24.181631</td>\n",
       "      <td>0.227055</td>\n",
       "      <td>29.227604</td>\n",
       "      <td>27.379485</td>\n",
       "      <td>1790.0</td>\n",
       "      <td>0.465769</td>\n",
       "      <td>0.793461</td>\n",
       "      <td>2.657844</td>\n",
       "      <td>3671.916667</td>\n",
       "      <td>788355.166667</td>\n",
       "      <td>0.071681</td>\n",
       "      <td>215847.583333</td>\n",
       "      <td>1.083924</td>\n",
       "      <td>1.918489</td>\n",
       "      <td>3.188425</td>\n",
       "      <td>0.272322</td>\n",
       "    </tr>\n",
       "  </tbody>\n",
       "</table>\n",
       "</div>"
      ],
      "text/plain": [
       "               language_name  mean_reverted_blocked  min_prop_reverted  \\\n",
       "database_group                                                           \n",
       "wikipedia            English               20953.25          24.181631   \n",
       "\n",
       "                mean_prop_revdeleted_blocked  max_prop_reverted  \\\n",
       "database_group                                                    \n",
       "wikipedia                           0.227055          29.227604   \n",
       "\n",
       "                mean_prop_reverted  mean_revdeleted_blocked  \\\n",
       "database_group                                                \n",
       "wikipedia                27.379485                   1790.0   \n",
       "\n",
       "                mean_prop_revdeleted  max_prop_revdeleted_blocked  \\\n",
       "database_group                                                      \n",
       "wikipedia                   0.465769                     0.793461   \n",
       "\n",
       "                mean_prop_reverted_blocked  mean_revdeleted  mean_ip_edits  \\\n",
       "database_group                                                               \n",
       "wikipedia                         2.657844      3671.916667  788355.166667   \n",
       "\n",
       "                min_prop_revdeleted_blocked  mean_reverted  \\\n",
       "database_group                                               \n",
       "wikipedia                          0.071681  215847.583333   \n",
       "\n",
       "                max_prop_revdeleted  min_prop_reverted_blocked  \\\n",
       "database_group                                                   \n",
       "wikipedia                  1.083924                   1.918489   \n",
       "\n",
       "                max_prop_reverted_blocked  min_prop_revdeleted  \n",
       "database_group                                                  \n",
       "wikipedia                        3.188425             0.272322  "
      ]
     },
     "execution_count": 168,
     "metadata": {},
     "output_type": "execute_result"
    }
   ],
   "source": [
    "per_project_stats_agg.query('database_group == \"wikipedia\" and language_name == \"English\"')"
   ]
  },
  {
   "cell_type": "markdown",
   "metadata": {},
   "source": [
    "Note: It might be possible to get numbers formatted properly in MediaWiki by converting from a number to a string (so it's `\"{{formatnum:\\d+}}\"`) and then perhaps use `stralign` in `tabulate.tabulate` to right-align the relevant columns. Will have to try that for a later iteration."
   ]
  },
  {
   "cell_type": "code",
   "execution_count": 187,
   "metadata": {},
   "outputs": [],
   "source": [
    "def print_project_group(df, group_name, table_format = 'mediawiki', precision = 1):\n",
    "    '''\n",
    "    From the aggregated project statistics, print out a table of the monthly average statistics\n",
    "    using the given table format (default is a wikitable). Expects the DataFrame `df` to have\n",
    "    an index so that `group_name` matches.\n",
    "    '''\n",
    "    \n",
    "    column_order = ['language_name', 'mean_ip_edits',\n",
    "                    'mean_reverted', 'mean_prop_reverted', 'min_prop_reverted', 'max_prop_reverted',\n",
    "                    'mean_revdeleted', 'mean_prop_revdeleted', 'min_prop_revdeleted', 'max_prop_revdeleted',\n",
    "                    'mean_reverted_blocked', 'mean_prop_reverted_blocked', 'min_prop_reverted_blocked', 'max_prop_reverted_blocked',\n",
    "                    'mean_revdeleted_blocked', 'mean_prop_revdeleted_blocked', 'min_prop_revdeleted_blocked', 'max_prop_revdeleted_blocked']\n",
    "    \n",
    "    column_renaming = {\n",
    "        'language_name' : 'Language',\n",
    "        'mean_ip_edits' : 'Monthly IP average',\n",
    "        'mean_reverted' : 'Monthly IP reverted average',\n",
    "        'mean_prop_reverted' : '% reverted average',\n",
    "        'min_prop_reverted' : 'Min. % reverted',\n",
    "        'max_prop_reverted' : 'Max. % reverted',\n",
    "        'mean_revdeleted' : 'Monthly IP revdeleted average',\n",
    "        'mean_prop_revdeleted' : '% revdeleted average',\n",
    "        'min_prop_revdeleted' : 'Min. % revdeleted',\n",
    "        'max_prop_revdeleted' : 'Max. % revdeleted',\n",
    "        'mean_reverted_blocked' : 'Monthly IP reverted blocked average',\n",
    "        'mean_prop_reverted_blocked' : '% reverted blocked average',\n",
    "        'min_prop_reverted_blocked' : 'Min. % reverted blocked',\n",
    "        'max_prop_reverted_blocked' : 'Max. % reverted blocked',\n",
    "        'mean_revdeleted_blocked' : 'Monthly IP revdeleted blocked average',\n",
    "        'mean_prop_revdeleted_blocked' : '% revdeleted blocked average',\n",
    "        'min_prop_revdeleted_blocked' : 'Min. % revdeleted blocked',\n",
    "        'max_prop_revdeleted_blocked' : 'Max. % revdeleted blocked'\n",
    "    }\n",
    "\n",
    "    print(\n",
    "        tabulate.tabulate(\n",
    "            df.loc[group_name].reset_index()[column_order].rename(columns = column_renaming),\n",
    "            headers = 'keys', tablefmt = table_format, showindex = False, numalign = 'right',\n",
    "            floatfmt = [''] + ['.1f'] * 17,\n",
    "        )\n",
    "    )"
   ]
  },
  {
   "cell_type": "code",
   "execution_count": 170,
   "metadata": {},
   "outputs": [
    {
     "data": {
      "text/plain": [
       "Index(['language_name', 'mean_reverted_blocked', 'min_prop_reverted',\n",
       "       'mean_prop_revdeleted_blocked', 'max_prop_reverted',\n",
       "       'mean_prop_reverted', 'mean_revdeleted_blocked', 'mean_prop_revdeleted',\n",
       "       'max_prop_revdeleted_blocked', 'mean_prop_reverted_blocked',\n",
       "       'mean_revdeleted', 'mean_ip_edits', 'min_prop_revdeleted_blocked',\n",
       "       'mean_reverted', 'max_prop_revdeleted', 'min_prop_reverted_blocked',\n",
       "       'max_prop_reverted_blocked', 'min_prop_revdeleted'],\n",
       "      dtype='object')"
      ]
     },
     "execution_count": 170,
     "metadata": {},
     "output_type": "execute_result"
    }
   ],
   "source": [
    "per_project_stats_agg.columns"
   ]
  },
  {
   "cell_type": "code",
   "execution_count": null,
   "metadata": {},
   "outputs": [],
   "source": [
    "print_project_group(per_project_stats_agg, ['commons'])"
   ]
  },
  {
   "cell_type": "code",
   "execution_count": null,
   "metadata": {},
   "outputs": [],
   "source": [
    "print_project_group(per_project_stats_agg, ['mediawiki'])"
   ]
  },
  {
   "cell_type": "code",
   "execution_count": null,
   "metadata": {},
   "outputs": [],
   "source": [
    "print_project_group(per_project_stats_agg, ['meta'])"
   ]
  },
  {
   "cell_type": "code",
   "execution_count": null,
   "metadata": {},
   "outputs": [],
   "source": [
    "print_project_group(per_project_stats_agg, 'wikibooks')"
   ]
  },
  {
   "cell_type": "code",
   "execution_count": null,
   "metadata": {},
   "outputs": [],
   "source": [
    "print_project_group(per_project_stats_agg, ['wikidata'])"
   ]
  },
  {
   "cell_type": "code",
   "execution_count": null,
   "metadata": {},
   "outputs": [],
   "source": [
    "print_project_group(per_project_stats_agg, 'wikinews')"
   ]
  },
  {
   "cell_type": "code",
   "execution_count": null,
   "metadata": {},
   "outputs": [],
   "source": [
    "print_project_group(per_project_stats_agg, 'wikipedia')"
   ]
  },
  {
   "cell_type": "code",
   "execution_count": null,
   "metadata": {},
   "outputs": [],
   "source": [
    "print_project_group(per_project_stats_agg, 'wikiquote')"
   ]
  },
  {
   "cell_type": "code",
   "execution_count": null,
   "metadata": {},
   "outputs": [],
   "source": [
    "print_project_group(per_project_stats_agg, 'wikisource')"
   ]
  },
  {
   "cell_type": "code",
   "execution_count": null,
   "metadata": {},
   "outputs": [],
   "source": [
    "print_project_group(per_project_stats_agg, 'wikiversity')"
   ]
  },
  {
   "cell_type": "code",
   "execution_count": null,
   "metadata": {},
   "outputs": [],
   "source": [
    "print_project_group(per_project_stats_agg, 'wikivoyage')"
   ]
  },
  {
   "cell_type": "code",
   "execution_count": null,
   "metadata": {},
   "outputs": [],
   "source": [
    "print_project_group(per_project_stats_agg, 'wiktionary')"
   ]
  },
  {
   "cell_type": "markdown",
   "metadata": {},
   "source": [
    "## Testcase - kept for historical reasons\n",
    "\n",
    "The query below is just kept to remind me of a useful test case from enwiki in case that's needed."
   ]
  },
  {
   "cell_type": "code",
   "execution_count": 104,
   "metadata": {},
   "outputs": [],
   "source": [
    "edits_query = '''\n",
    "SELECT event_user_text, event_timestamp, revision_id, revision_first_identity_reverting_revision_id,\n",
    "   revision_deleted_parts, revision_is_identity_reverted, revision_seconds_to_identity_revert\n",
    "FROM wmf.mediawiki_history\n",
    "WHERE snapshot = \"2019-08\"\n",
    "AND event_timestamp >= \"2019-04-01\"\n",
    "AND event_timestamp < \"2019-05-01\"\n",
    "AND wiki_db = \"enwiki\"\n",
    "AND event_user_text = \"103.93.201.2\"\n",
    "AND event_entity = \"revision\"\n",
    "AND event_type = \"create\"\n",
    "'''"
   ]
  }
 ],
 "metadata": {
  "kernelspec": {
   "display_name": "Python 3",
   "language": "python",
   "name": "python3"
  },
  "language_info": {
   "codemirror_mode": {
    "name": "ipython",
    "version": 3
   },
   "file_extension": ".py",
   "mimetype": "text/x-python",
   "name": "python",
   "nbconvert_exporter": "python",
   "pygments_lexer": "ipython3",
   "version": "3.5.3"
  }
 },
 "nbformat": 4,
 "nbformat_minor": 2
}
